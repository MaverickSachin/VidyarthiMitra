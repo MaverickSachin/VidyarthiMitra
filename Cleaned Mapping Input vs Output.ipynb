{
 "cells": [
  {
   "cell_type": "code",
   "execution_count": 1,
   "id": "bec99528",
   "metadata": {},
   "outputs": [
    {
     "data": {
      "text/html": [
       "<style>.container { width:100% !important; }</style>"
      ],
      "text/plain": [
       "<IPython.core.display.HTML object>"
      ]
     },
     "metadata": {},
     "output_type": "display_data"
    }
   ],
   "source": [
    "from IPython.core.display import display, HTML\n",
    "display(HTML(\"<style>.container { width:100% !important; }</style>\"))"
   ]
  },
  {
   "cell_type": "code",
   "execution_count": null,
   "id": "1d94417b",
   "metadata": {},
   "outputs": [],
   "source": [
    "import pandas as pd\n",
    "import numpy as np\n",
    "\n",
    "pd.set_option('display.max_rows', 1000)\n",
    "pd.set_option('display.max_columns', 1000)"
   ]
  },
  {
   "cell_type": "code",
   "execution_count": 58,
   "id": "dde71ce2",
   "metadata": {},
   "outputs": [
    {
     "data": {
      "text/plain": [
       "20"
      ]
     },
     "execution_count": 58,
     "metadata": {},
     "output_type": "execute_result"
    }
   ],
   "source": [
    "df = pd.read_excel(\"Input - NEET Opening Closing 2020.xlsx\")\n",
    "# df.head(60)\n",
    "\n",
    "# Delete all the records where first column value contains \"LEGEND\"\n",
    "df.drop(df[df['Unnamed: 0'].str.contains('LEGEND', na=False)].index, inplace = True)\n",
    "\n",
    "# df.loc[pd.to_numeric(df['Unnamed: 0'].fillna(0), errors='coerce').isna(), 'Unnamed: 0']\n",
    "colleges = df.loc[pd.to_numeric(df['Unnamed: 0'].fillna(0),errors='coerce').isna(),'Unnamed: 0'].index.values.tolist()\n",
    "len(colleges)"
   ]
  },
  {
   "cell_type": "code",
   "execution_count": 4,
   "id": "6d03c8cf",
   "metadata": {},
   "outputs": [
    {
     "data": {
      "text/plain": [
       "0      Admissions to Health Science Courses, 2020-2021\n",
       "55     Admissions to Health Science Courses, 2020-2021\n",
       "96     Admissions to Health Science Courses, 2020-2021\n",
       "109    Admissions to Health Science Courses, 2020-2021\n",
       "164    Admissions to Health Science Courses, 2020-2021\n",
       "211    Admissions to Health Science Courses, 2020-2021\n",
       "271    Admissions to Health Science Courses, 2020-2021\n",
       "326    Admissions to Health Science Courses, 2020-2021\n",
       "386    Admissions to Health Science Courses, 2020-2021\n",
       "431    Admissions to Health Science Courses, 2020-2021\n",
       "452    Admissions to Health Science Courses, 2020-2021\n",
       "465    Admissions to Health Science Courses, 2020-2021\n",
       "525    Admissions to Health Science Courses, 2020-2021\n",
       "580    Admissions to Health Science Courses, 2020-2021\n",
       "603    Admissions to Health Science Courses, 2020-2021\n",
       "616    Admissions to Health Science Courses, 2020-2021\n",
       "676    Admissions to Health Science Courses, 2020-2021\n",
       "736    Admissions to Health Science Courses, 2020-2021\n",
       "796    Admissions to Health Science Courses, 2020-2021\n",
       "852    Admissions to Health Science Courses, 2020-2021\n",
       "Name: Unnamed: 0, dtype: object"
      ]
     },
     "execution_count": 4,
     "metadata": {},
     "output_type": "execute_result"
    }
   ],
   "source": [
    "df.loc[pd.to_numeric(df['Unnamed: 0'].fillna(0), errors='coerce').isna(), 'Unnamed: 0']"
   ]
  },
  {
   "cell_type": "code",
   "execution_count": null,
   "id": "177b4b85",
   "metadata": {},
   "outputs": [],
   "source": []
  },
  {
   "cell_type": "code",
   "execution_count": null,
   "id": "6a493506",
   "metadata": {},
   "outputs": [],
   "source": []
  },
  {
   "cell_type": "code",
   "execution_count": null,
   "id": "f1a2064e",
   "metadata": {},
   "outputs": [],
   "source": []
  },
  {
   "cell_type": "code",
   "execution_count": null,
   "id": "7957c2af",
   "metadata": {},
   "outputs": [],
   "source": []
  },
  {
   "cell_type": "code",
   "execution_count": 59,
   "id": "a235278e",
   "metadata": {},
   "outputs": [
    {
     "name": "stdout",
     "output_type": "stream",
     "text": [
      "M.B.B.S.\n",
      "GOVERNMENT/AIDED COLLEGES\n"
     ]
    }
   ],
   "source": [
    "# Name of the course and type of the college\n",
    "course_college_type = df.iloc[1, :].dropna()[0]\n",
    "course = course_college_type.split(\"  \")[1]\n",
    "college_type = course_college_type.split(\"  \")[2]\n",
    "\n",
    "print(course)\n",
    "print(college_type)"
   ]
  },
  {
   "cell_type": "code",
   "execution_count": 60,
   "id": "f3b6c745",
   "metadata": {},
   "outputs": [],
   "source": [
    "# dropping the first column from the dataframe\n",
    "df.drop('Unnamed: 0', axis=1, inplace=True)"
   ]
  },
  {
   "cell_type": "code",
   "execution_count": 61,
   "id": "fcb6c3a1",
   "metadata": {},
   "outputs": [],
   "source": [
    "# dropping the first three rows from the dataframe\n",
    "df.drop([0, 1, 2], inplace = True )"
   ]
  },
  {
   "cell_type": "code",
   "execution_count": 62,
   "id": "6bf0546d",
   "metadata": {},
   "outputs": [
    {
     "data": {
      "text/plain": [
       "50"
      ]
     },
     "execution_count": 62,
     "metadata": {},
     "output_type": "execute_result"
    }
   ],
   "source": [
    "df1 = df[colleges[0]:colleges[1] - 5]\n",
    "len(df1)"
   ]
  },
  {
   "cell_type": "code",
   "execution_count": 63,
   "id": "a92a1c5b",
   "metadata": {},
   "outputs": [
    {
     "data": {
      "text/plain": [
       "50"
      ]
     },
     "execution_count": 63,
     "metadata": {},
     "output_type": "execute_result"
    }
   ],
   "source": [
    "college_names = df1[\"Unnamed: 1\"].tolist()\n",
    "len(college_names)"
   ]
  },
  {
   "cell_type": "code",
   "execution_count": 72,
   "id": "45f242fb",
   "metadata": {},
   "outputs": [],
   "source": [
    "df1 = df1.iloc[:, 2:]\n",
    "df1.replace(np.NaN, 'N/A', inplace=True)\n",
    "df1.reset_index(drop=True, inplace=True)"
   ]
  },
  {
   "cell_type": "code",
   "execution_count": 65,
   "id": "fba2fe9e",
   "metadata": {},
   "outputs": [],
   "source": [
    "output = []\n",
    "for i in range(len(college_names)):\n",
    "    if pd.isna(college_names[i]):\n",
    "        continue\n",
    "\n",
    "    if pd.isna(college_names[i + 1]) and college_names[i].split(\" \")[0].isnumeric():\n",
    "        output.append(college_names[i])\n",
    "    elif not college_names[i].split(\" \")[0].isnumeric():\n",
    "        continue\n",
    "    else:\n",
    "        output.append(college_names[i] + ' ' + college_names[i+1])"
   ]
  },
  {
   "cell_type": "code",
   "execution_count": 66,
   "id": "698ef3b2",
   "metadata": {},
   "outputs": [],
   "source": [
    "categories = ['SC', 'ST', 'VJ', 'NT1', 'NT2', 'NT3', 'OBC', 'EWS', 'OPEN', 'D1', 'D2', 'D3', 'PH', 'MKB', 'NRI']\n",
    "columns = ['Code', 'College Name', 'Category', 'S - AIR', 'M - Marks Obtained', 'Course', 'College Type']"
   ]
  },
  {
   "cell_type": "code",
   "execution_count": 67,
   "id": "f1a1c20b",
   "metadata": {},
   "outputs": [],
   "source": [
    "total = len(output) * 2\n",
    "i = 0\n",
    "\n",
    "item = output[0]\n",
    "\n",
    "if item.split(\" \")[0].isnumeric() and item.split(\" \")[1].isnumeric():\n",
    "    college_code = item.split(\" \")[1]\n",
    "    college_name = \"\".join(item.split(\" \")[2:])\n",
    "else:\n",
    "    college_code = item.split(\" \")[0]\n",
    "    college_name = \" \".join(item.split(\" \")[1:])\n",
    "\n",
    "college_name = [college_name] * 15\n",
    "college_code = [college_code] * 15\n",
    "course = [course] * 15\n",
    "college_type = [college_type] * 15"
   ]
  },
  {
   "cell_type": "code",
   "execution_count": 68,
   "id": "274d31ae",
   "metadata": {},
   "outputs": [],
   "source": [
    "# rankings AIR\n",
    "rankings = df1.iloc[0, :].tolist()\n",
    "\n",
    "# marks obtained \n",
    "marks = df1.iloc[1, :].tolist()"
   ]
  },
  {
   "cell_type": "code",
   "execution_count": 69,
   "id": "5f4a8310",
   "metadata": {},
   "outputs": [
    {
     "name": "stdout",
     "output_type": "stream",
     "text": [
      "     Code College Name Category S - AIR M - Marks Obtained    Course  \\\n",
      "0   01101  GMC, MUMBAI       SC   47384                552  M.B.B.S.   \n",
      "1   01101  GMC, MUMBAI       ST  180913                404  M.B.B.S.   \n",
      "2   01101  GMC, MUMBAI       VJ   22048                595  M.B.B.S.   \n",
      "3   01101  GMC, MUMBAI      NT1   32096                577  M.B.B.S.   \n",
      "4   01101  GMC, MUMBAI      NT2   12268                618  M.B.B.S.   \n",
      "5   01101  GMC, MUMBAI      NT3    7007                635  M.B.B.S.   \n",
      "6   01101  GMC, MUMBAI      OBC   12081                619  M.B.B.S.   \n",
      "7   01101  GMC, MUMBAI      EWS   13670                615  M.B.B.S.   \n",
      "8   01101  GMC, MUMBAI     OPEN    8971                629  M.B.B.S.   \n",
      "9   01101  GMC, MUMBAI       D1   20470                599  M.B.B.S.   \n",
      "10  01101  GMC, MUMBAI       D2    4111                649  M.B.B.S.   \n",
      "11  01101  GMC, MUMBAI       D3    9448                627  M.B.B.S.   \n",
      "12  01101  GMC, MUMBAI       PH  624419                164  M.B.B.S.   \n",
      "13  01101  GMC, MUMBAI      MKB   33135                575  M.B.B.S.   \n",
      "14  01101  GMC, MUMBAI      NRI     N/A                N/A  M.B.B.S.   \n",
      "\n",
      "                 College Type  \n",
      "0   GOVERNMENT/AIDED COLLEGES  \n",
      "1   GOVERNMENT/AIDED COLLEGES  \n",
      "2   GOVERNMENT/AIDED COLLEGES  \n",
      "3   GOVERNMENT/AIDED COLLEGES  \n",
      "4   GOVERNMENT/AIDED COLLEGES  \n",
      "5   GOVERNMENT/AIDED COLLEGES  \n",
      "6   GOVERNMENT/AIDED COLLEGES  \n",
      "7   GOVERNMENT/AIDED COLLEGES  \n",
      "8   GOVERNMENT/AIDED COLLEGES  \n",
      "9   GOVERNMENT/AIDED COLLEGES  \n",
      "10  GOVERNMENT/AIDED COLLEGES  \n",
      "11  GOVERNMENT/AIDED COLLEGES  \n",
      "12  GOVERNMENT/AIDED COLLEGES  \n",
      "13  GOVERNMENT/AIDED COLLEGES  \n",
      "14  GOVERNMENT/AIDED COLLEGES  \n"
     ]
    }
   ],
   "source": [
    "new_df = pd.DataFrame(list(zip(college_code, college_name, categories, rankings, marks, course, college_type)), columns=columns)\n",
    "print(new_df)"
   ]
  },
  {
   "cell_type": "code",
   "execution_count": 71,
   "id": "8bcb5725",
   "metadata": {},
   "outputs": [],
   "source": [
    "new_df.to_excel(\"Output.xlsx\")"
   ]
  },
  {
   "cell_type": "code",
   "execution_count": null,
   "id": "e5196328",
   "metadata": {},
   "outputs": [],
   "source": []
  },
  {
   "cell_type": "code",
   "execution_count": null,
   "id": "f64f7440",
   "metadata": {},
   "outputs": [],
   "source": []
  },
  {
   "cell_type": "code",
   "execution_count": null,
   "id": "cd3a7492",
   "metadata": {},
   "outputs": [],
   "source": []
  },
  {
   "cell_type": "code",
   "execution_count": null,
   "id": "c9221160",
   "metadata": {},
   "outputs": [],
   "source": []
  },
  {
   "cell_type": "code",
   "execution_count": null,
   "id": "751ccb7f",
   "metadata": {},
   "outputs": [],
   "source": [
    "df_copy = \n",
    "\n",
    "for i in range(len(colleges)):\n",
    "    \n",
    "    # Name of the course and type of the college\n",
    "    course_college_type = df.iloc[colleges[i + 1], :].dropna()[0]\n",
    "    course = course_college_type.split(\"  \")[1]\n",
    "    college_type = course_college_type.split(\"  \")[2]\n",
    "\n",
    "    # dropping the first column from the dataframe\n",
    "    df.drop('Unnamed: 0', axis=1, inplace=True)\n",
    "\n",
    "    # dropping the first three rows from the dataframe\n",
    "    df.drop([0, 1, 2], inplace = True )\n",
    "\n",
    "    df1 = df[colleges[0]:colleges[1] - 2]\n",
    "\n",
    "    college_names = df1[\"Unnamed: 1\"].tolist()\n",
    "\n",
    "    df1 = df1.iloc[:, 2:]\n",
    "    df1.replace(np.NaN, 'N/A', inplace=True)\n",
    "    df1.reset_index(drop=True, inplace=True)\n",
    "\n",
    "    output = []\n",
    "\n",
    "    for i in range(len(college_names)):\n",
    "        if pd.isna(college_names[i]):\n",
    "            continue\n",
    "\n",
    "        if pd.isna(college_names[i + 1]) and college_names[i].split(\" \")[0].isnumeric():\n",
    "            output.append(college_names[i])\n",
    "        elif not college_names[i].split(\" \")[0].isnumeric():\n",
    "            continue\n",
    "        else:\n",
    "            output.append(college_names[i] + ' ' + college_names[i+1])\n",
    "\n",
    "        total = len(output) * 2\n",
    "        i = 0\n",
    "\n",
    "        for item in output:\n",
    "\n",
    "            if item.split(\" \")[0].isnumeric() and item.split(\" \")[1].isnumeric():\n",
    "                college_code = item.split(\" \")[1]\n",
    "                college_name = \" \".join(item.split(\" \")[2:])\n",
    "            else:\n",
    "                college_code = item.split(\" \")[0]\n",
    "                college_name = \" \".join(item.split(\" \")[1:])\n",
    "\n",
    "            college_name = [college_name] * 15\n",
    "            college_code = [college_code] * 15\n",
    "            course = [course] * 15\n",
    "            college_type = [college_type] * 15\n",
    "\n",
    "            # rankings AIR\n",
    "            rankings = df1.iloc[0, :].tolist()\n",
    "\n",
    "            # marks obtained \n",
    "            marks = df1.iloc[1, :].tolist()\n",
    "\n",
    "            new_df = pd.DataFrame(list(zip(serial_numbers, college_code, college_name, categories, rankings, marks, course, college_type)), columns=columns)\n",
    "            new_df"
   ]
  },
  {
   "cell_type": "code",
   "execution_count": null,
   "id": "08f899df",
   "metadata": {},
   "outputs": [],
   "source": []
  },
  {
   "cell_type": "code",
   "execution_count": null,
   "id": "1a722cf1",
   "metadata": {},
   "outputs": [],
   "source": []
  },
  {
   "cell_type": "code",
   "execution_count": null,
   "id": "086ee071",
   "metadata": {},
   "outputs": [],
   "source": []
  },
  {
   "cell_type": "code",
   "execution_count": null,
   "id": "5d79a12b",
   "metadata": {},
   "outputs": [],
   "source": []
  },
  {
   "cell_type": "code",
   "execution_count": null,
   "id": "371ed0e8",
   "metadata": {},
   "outputs": [],
   "source": []
  },
  {
   "cell_type": "code",
   "execution_count": null,
   "id": "66123877",
   "metadata": {},
   "outputs": [],
   "source": []
  },
  {
   "cell_type": "code",
   "execution_count": null,
   "id": "8c87d81f",
   "metadata": {},
   "outputs": [],
   "source": []
  },
  {
   "cell_type": "code",
   "execution_count": null,
   "id": "bb99a0b2",
   "metadata": {},
   "outputs": [],
   "source": []
  },
  {
   "cell_type": "code",
   "execution_count": null,
   "id": "09e42a94",
   "metadata": {},
   "outputs": [],
   "source": []
  },
  {
   "cell_type": "code",
   "execution_count": null,
   "id": "e7b4bd8b",
   "metadata": {},
   "outputs": [],
   "source": []
  },
  {
   "cell_type": "code",
   "execution_count": null,
   "id": "aaa2ae2e",
   "metadata": {},
   "outputs": [],
   "source": [
    "for i in range(len(colleges)):\n",
    "    \n",
    "    # Name of the course and type of the college\n",
    "    course_college_type = df[colleges[0]:colleges[1]].loc[1, 'Unnamed: 5']\n",
    "    course_college_type = df.iloc[1, :].dropna()[0]\n",
    "    course = course_college_type.split(\"  \")[1]\n",
    "    college_type = course_college_type.split(\"  \")[2]\n",
    "    \n",
    "    # dropping the first column from the dataframe\n",
    "    df.drop('Unnamed: 0', axis=1, inplace=True)\n",
    "\n",
    "    # dropping the first three rows from the dataframe\n",
    "    df.drop([0, 1, 2], inplace = True )\n",
    "    \n",
    "    df1 = df[colleges[0]:colleges[1] - 2]\n",
    "    \n",
    "    college_names = df1[\"Unnamed: 1\"].tolist()\n",
    "    \n",
    "    df1 = df1.iloc[:, 2:]\n",
    "    df1.replace(np.NaN, 'N/A', inplace=True)\n",
    "    df1.reset_index(drop=True, inplace=True)\n",
    "    \n",
    "    output = []\n",
    "\n",
    "    for i in range(len(college_names)):\n",
    "        if pd.isna(college_names[i]):\n",
    "            continue\n",
    "        \n",
    "        if pd.isna(college_names[i + 1]) and college_names[i].split(\" \")[0].isnumeric():\n",
    "            output.append(college_names[i])\n",
    "        elif not college_names[i].split(\" \")[0].isnumeric():\n",
    "            continue\n",
    "        else:\n",
    "            output.append(college_names[i] + ' ' + college_names[i+1])\n",
    "        \n",
    "        total = len(output) * 2\n",
    "        i = 0\n",
    "        \n",
    "        for item in output:\n",
    "\n",
    "            if item.split(\" \")[0].isnumeric() and item.split(\" \")[1].isnumeric():\n",
    "                college_code = item.split(\" \")[1]\n",
    "                college_name = \"\".join(item.split(\" \")[2:])\n",
    "            else:\n",
    "                college_code = item.split(\" \")[0]\n",
    "                college_name = \"\".join(item.split(\" \")[1:])\n",
    "\n",
    "            college_name = [college_name] * 15\n",
    "            college_code = [college_code] * 15\n",
    "            course = [course] * 15\n",
    "            college_type = [college_type] * 15\n",
    "    \n",
    "            # rankings AIR\n",
    "            rankings = df1.iloc[0, :].tolist()\n",
    "\n",
    "            # marks obtained \n",
    "            marks = df1.iloc[1, :].tolist()\n",
    "            \n",
    "            new_df = pd.DataFrame(list(zip(serial_numbers, college_code, college_name, categories, rankings, marks, course, college_type)), columns=columns)\n",
    "            new_df"
   ]
  },
  {
   "cell_type": "code",
   "execution_count": null,
   "id": "42e1a3e7",
   "metadata": {},
   "outputs": [],
   "source": []
  },
  {
   "cell_type": "code",
   "execution_count": null,
   "id": "543607b7",
   "metadata": {},
   "outputs": [],
   "source": []
  }
 ],
 "metadata": {
  "kernelspec": {
   "display_name": "Python 3 (ipykernel)",
   "language": "python",
   "name": "python3"
  },
  "language_info": {
   "codemirror_mode": {
    "name": "ipython",
    "version": 3
   },
   "file_extension": ".py",
   "mimetype": "text/x-python",
   "name": "python",
   "nbconvert_exporter": "python",
   "pygments_lexer": "ipython3",
   "version": "3.7.6"
  }
 },
 "nbformat": 4,
 "nbformat_minor": 5
}
