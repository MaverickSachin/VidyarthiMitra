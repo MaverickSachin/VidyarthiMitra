{
 "cells": [
  {
   "cell_type": "code",
   "execution_count": 1,
   "id": "8f4c8ed5",
   "metadata": {},
   "outputs": [
    {
     "data": {
      "text/html": [
       "<style>.container { width:100% !important; }</style>"
      ],
      "text/plain": [
       "<IPython.core.display.HTML object>"
      ]
     },
     "metadata": {},
     "output_type": "display_data"
    }
   ],
   "source": [
    "from IPython.core.display import display, HTML\n",
    "display(HTML(\"<style>.container { width:100% !important; }</style>\"))"
   ]
  },
  {
   "cell_type": "code",
   "execution_count": 2,
   "id": "5562bc5d",
   "metadata": {},
   "outputs": [],
   "source": [
    "import time\n",
    "import pandas as pd\n",
    "import numpy as np\n",
    "\n",
    "from math import floor\n",
    "\n",
    "pd.set_option('display.max_rows', 1000)\n",
    "pd.set_option('display.max_columns', 1000)\n",
    "pd.options.display.float_format = '{:.2f}'.format"
   ]
  },
  {
   "cell_type": "code",
   "execution_count": 24,
   "id": "3d5d5069",
   "metadata": {},
   "outputs": [],
   "source": [
    "df = pd.read_excel(\"Input - DSE_final_all with %.xlsx\")\n",
    "df[\"MHT-CET\"] = df[\"MHT-CET\"].apply(lambda x: round(x * 100, 2) if floor(x) == 0 else round(x, 2))\n",
    "# df['Institute Code'].unique().tolist()"
   ]
  },
  {
   "cell_type": "code",
   "execution_count": null,
   "id": "78e0e2c0",
   "metadata": {},
   "outputs": [],
   "source": [
    "institute_codes = df['Institute Code'].unique().tolist()\n",
    "# print(institute_codes)\n",
    "for institute_code in institute_codes:\n",
    "    \n",
    "    institute_code_filter = (df['Institute Code'] == institute_code)\n",
    "    df_institute = df[institute_code_filter]\n",
    "    print(len(df_institute))\n",
    "\n",
    "    course_names = df_institute['Course name'].unique().tolist()\n",
    "#     print(course_names)"
   ]
  },
  {
   "cell_type": "code",
   "execution_count": 22,
   "id": "5126b1ce",
   "metadata": {},
   "outputs": [],
   "source": [
    "df_obj = df.select_dtypes(['object'])\n",
    "df[df_obj.columns] = df_obj.apply(lambda x: x.str.strip())\n",
    "\n",
    "df.drop('Unnamed: 0', axis=1, inplace=True)"
   ]
  },
  {
   "cell_type": "code",
   "execution_count": 29,
   "id": "e9f95622",
   "metadata": {},
   "outputs": [],
   "source": [
    "df['Course name'] = df['Course name'].apply(lambda x: x.strip() if type(x) == str else x)"
   ]
  },
  {
   "cell_type": "code",
   "execution_count": null,
   "id": "f84cfd55",
   "metadata": {},
   "outputs": [],
   "source": []
  },
  {
   "cell_type": "code",
   "execution_count": 35,
   "id": "1e434d2d",
   "metadata": {},
   "outputs": [
    {
     "name": "stderr",
     "output_type": "stream",
     "text": [
      "s:\\freelancing\\vidyarthimitra\\venv\\lib\\site-packages\\ipykernel_launcher.py:57: SettingWithCopyWarning: \n",
      "A value is trying to be set on a copy of a slice from a DataFrame.\n",
      "Try using .loc[row_indexer,col_indexer] = value instead\n",
      "\n",
      "See the caveats in the documentation: https://pandas.pydata.org/pandas-docs/stable/user_guide/indexing.html#returning-a-view-versus-a-copy\n",
      "s:\\freelancing\\vidyarthimitra\\venv\\lib\\site-packages\\ipykernel_launcher.py:58: SettingWithCopyWarning: \n",
      "A value is trying to be set on a copy of a slice from a DataFrame.\n",
      "Try using .loc[row_indexer,col_indexer] = value instead\n",
      "\n",
      "See the caveats in the documentation: https://pandas.pydata.org/pandas-docs/stable/user_guide/indexing.html#returning-a-view-versus-a-copy\n",
      "s:\\freelancing\\vidyarthimitra\\venv\\lib\\site-packages\\ipykernel_launcher.py:60: SettingWithCopyWarning: \n",
      "A value is trying to be set on a copy of a slice from a DataFrame.\n",
      "Try using .loc[row_indexer,col_indexer] = value instead\n",
      "\n",
      "See the caveats in the documentation: https://pandas.pydata.org/pandas-docs/stable/user_guide/indexing.html#returning-a-view-versus-a-copy\n",
      "s:\\freelancing\\vidyarthimitra\\venv\\lib\\site-packages\\ipykernel_launcher.py:61: SettingWithCopyWarning: \n",
      "A value is trying to be set on a copy of a slice from a DataFrame.\n",
      "Try using .loc[row_indexer,col_indexer] = value instead\n",
      "\n",
      "See the caveats in the documentation: https://pandas.pydata.org/pandas-docs/stable/user_guide/indexing.html#returning-a-view-versus-a-copy\n"
     ]
    },
    {
     "name": "stdout",
     "output_type": "stream",
     "text": [
      "416.3378131389618\n"
     ]
    }
   ],
   "source": [
    "start = time.time()\n",
    "\n",
    "df = pd.read_excel(\"Input - DSE_final_all with %.xlsx\")\n",
    "\n",
    "df_obj = df.select_dtypes(['object'])\n",
    "df[df_obj.columns] = df_obj.apply(lambda x: x.str.strip() if type(x) == str else x)\n",
    "\n",
    "df[\"MHT-CET\"] = df[\"MHT-CET\"].apply(lambda x: round(x * 100, 2) if floor(x) == 0 else round(x, 2))\n",
    "\n",
    "df.drop('Unnamed: 0', axis=1, inplace=True)\n",
    "\n",
    "cap_rounds = df['CAP'].unique().tolist()\n",
    "\n",
    "df1 = df.copy(deep=True)\n",
    "final = pd.DataFrame()\n",
    "\n",
    "for cap in cap_rounds:\n",
    "    cap_filter = (df1['CAP'] == cap)\n",
    "    df_cap = df1[cap_filter]\n",
    "    \n",
    "    institute_codes = df1['Institute Code'].unique().tolist()\n",
    "    \n",
    "    for institute_code in institute_codes:\n",
    "        institute_code_filter = (df_cap['Institute Code'] == institute_code)\n",
    "        df_institute = df_cap[institute_code_filter]\n",
    "        \n",
    "        course_names = df_institute['Course name'].unique().tolist()\n",
    "        \n",
    "        for course in course_names:\n",
    "            course_names_filter = (df_institute['Course name'] == course)\n",
    "            df_course = df_institute[course_names_filter]\n",
    "            \n",
    "            categories = df_course['Candidate Category'].unique().tolist()\n",
    "            \n",
    "            for category in categories:\n",
    "                categories_filter = (df_course['Candidate Category'] == category)\n",
    "                df_category = df_course[categories_filter]\n",
    "                                \n",
    "                male_filter = (df_category['Gender'] == 'M')\n",
    "                df_male = df_category[male_filter]\n",
    "                \n",
    "                female_filter = (df_category['Gender'] == 'F')\n",
    "                df_female = df_category[female_filter]\n",
    "\n",
    "                male_max_filter = (df_male['MHT-CET'] == df_male['MHT-CET'].max())\n",
    "                df_male_max = df_male[male_max_filter]\n",
    "                \n",
    "                df_male_max.insert(1, 'Opening MHT-CET', df_male['MHT-CET'].min())                \n",
    "                df_male_max.rename(columns = {'MHT-CET':'Closing MHT-CET'}, inplace = True)\n",
    "                \n",
    "                female_max_filter = (df_female['MHT-CET'] == df_female['MHT-CET'].max())\n",
    "                df_female_max = df_female[female_max_filter]\n",
    "                \n",
    "                df_female_max.insert(1, 'Opening MHT-CET', df_female['MHT-CET'].min())                \n",
    "                df_female_max.rename(columns = {'MHT-CET':'Closing MHT-CET'}, inplace = True)\n",
    "                \n",
    "                df_male_max['Opening MHT-CET'] = df_male_max['Opening MHT-CET'].apply(lambda x:round(x, 2))\n",
    "                df_male_max['Closing MHT-CET'] = df_male_max['Closing MHT-CET'].apply(lambda x:round(x, 2))\n",
    "                \n",
    "                df_female_max['Opening MHT-CET'] = df_female_max['Opening MHT-CET'].apply(lambda x:round(x, 2))\n",
    "                df_female_max['Closing MHT-CET'] = df_female_max['Closing MHT-CET'].apply(lambda x:round(x, 2))\n",
    "\n",
    "                final = pd.concat([final, df_male_max], axis=0)\n",
    "                final = pd.concat([final, df_female_max], axis=0)\n",
    "                    \n",
    "final.reset_index(drop=True, inplace=True)\n",
    "final.index = np.arange(1, len(final)+1)\n",
    "final.to_excel(\"Output - DSE_final_all with %.xlsx\", index=True, index_label=\"Sr. No.\")\n",
    "\n",
    "end = time.time()\n",
    "print(end-start)"
   ]
  },
  {
   "cell_type": "code",
   "execution_count": null,
   "id": "c915ed01",
   "metadata": {},
   "outputs": [],
   "source": []
  },
  {
   "cell_type": "code",
   "execution_count": null,
   "id": "4a4ef1e5",
   "metadata": {},
   "outputs": [],
   "source": []
  },
  {
   "cell_type": "code",
   "execution_count": null,
   "id": "e30f88e0",
   "metadata": {},
   "outputs": [],
   "source": []
  },
  {
   "cell_type": "code",
   "execution_count": null,
   "id": "9efee98f",
   "metadata": {},
   "outputs": [],
   "source": []
  },
  {
   "cell_type": "code",
   "execution_count": null,
   "id": "ab0d8f49",
   "metadata": {},
   "outputs": [],
   "source": []
  },
  {
   "cell_type": "code",
   "execution_count": null,
   "id": "f1d499ed",
   "metadata": {},
   "outputs": [],
   "source": []
  },
  {
   "cell_type": "code",
   "execution_count": null,
   "id": "8131e565",
   "metadata": {},
   "outputs": [],
   "source": []
  },
  {
   "cell_type": "code",
   "execution_count": null,
   "id": "c778cbf6",
   "metadata": {},
   "outputs": [],
   "source": []
  },
  {
   "cell_type": "code",
   "execution_count": null,
   "id": "216a2e6b",
   "metadata": {},
   "outputs": [],
   "source": []
  },
  {
   "cell_type": "code",
   "execution_count": null,
   "id": "ac9c443f",
   "metadata": {},
   "outputs": [],
   "source": []
  },
  {
   "cell_type": "code",
   "execution_count": null,
   "id": "a38dbb6d",
   "metadata": {},
   "outputs": [],
   "source": []
  },
  {
   "cell_type": "code",
   "execution_count": null,
   "id": "dc42e0fd",
   "metadata": {},
   "outputs": [],
   "source": []
  },
  {
   "cell_type": "code",
   "execution_count": null,
   "id": "a75069f2",
   "metadata": {},
   "outputs": [],
   "source": []
  },
  {
   "cell_type": "code",
   "execution_count": null,
   "id": "30655aed",
   "metadata": {},
   "outputs": [],
   "source": []
  },
  {
   "cell_type": "code",
   "execution_count": null,
   "id": "8832706a",
   "metadata": {},
   "outputs": [],
   "source": []
  },
  {
   "cell_type": "code",
   "execution_count": null,
   "id": "4be8c24a",
   "metadata": {},
   "outputs": [],
   "source": []
  },
  {
   "cell_type": "code",
   "execution_count": null,
   "id": "d96d7881",
   "metadata": {},
   "outputs": [],
   "source": []
  },
  {
   "cell_type": "code",
   "execution_count": null,
   "id": "9ebc8953",
   "metadata": {},
   "outputs": [],
   "source": []
  },
  {
   "cell_type": "code",
   "execution_count": null,
   "id": "9c961360",
   "metadata": {},
   "outputs": [],
   "source": []
  },
  {
   "cell_type": "code",
   "execution_count": 66,
   "id": "9e6279ce",
   "metadata": {},
   "outputs": [
    {
     "name": "stdout",
     "output_type": "stream",
     "text": [
      "666.8471412658691\n"
     ]
    }
   ],
   "source": [
    "cap_rounds = df['CAP'].unique().tolist()\n",
    "\n",
    "df1 = df.copy(deep=True)\n",
    "final = pd.DataFrame()\n",
    "\n",
    "for cap in cap_rounds:\n",
    "    cap_filter = (df1['CAP'] == cap)\n",
    "    df_cap = df1[cap_filter]\n",
    "    \n",
    "    institute_codes = df1['Institute Code'].unique().tolist()\n",
    "    \n",
    "    for institute_code in institute_codes:\n",
    "        institute_code_filter = (df_cap['Institute Code'] == institute_code)\n",
    "        df_institute = df_cap[institute_code_filter]\n",
    "        \n",
    "        course_names = df_institute['Course name'].unique().tolist()\n",
    "        \n",
    "        for course in course_names:\n",
    "            course_names_filter = (df_institute['Course name'] == course)\n",
    "            df_course = df_institute[course_names_filter]\n",
    "            \n",
    "            categories = df_course['Candidate Category'].unique().tolist()\n",
    "            \n",
    "            for category in categories:\n",
    "                categories_filter = (df_course['Candidate Category'] == category)\n",
    "                df_category = df_course[categories_filter]\n",
    "                \n",
    "                genders = df_category['Gender'].unique().tolist()\n",
    "                \n",
    "                for gender in genders:\n",
    "                    gender_filter = (df_category['Gender'] == gender)\n",
    "                    df_gender = df_category[gender_filter]\n",
    "                \n",
    "                    max_filter = (df_gender['MHT-CET'] == df_gender['MHT-CET'].max())\n",
    "                    df_max = df_gender[max_filter]\n",
    "                    \n",
    "                    final = pd.concat([final, df_max], axis=0)\n",
    "                    \n",
    "                    min_filter = (df_gender['MHT-CET'] == df_gender['MHT-CET'].min())\n",
    "                    df_min = df_gender[min_filter]\n",
    "                    \n",
    "                    final = pd.concat([final, df_min], axis=0)\n",
    "                    \n",
    "final.reset_index(drop=True, inplace=True)\n",
    "final.to_excel(\"Script Outout - FE Cut-offs 2021.xlsx\", index=True, index_label=\"Sr. No.\")"
   ]
  },
  {
   "cell_type": "code",
   "execution_count": 67,
   "id": "d058070e",
   "metadata": {},
   "outputs": [
    {
     "data": {
      "text/html": [
       "<div>\n",
       "<style scoped>\n",
       "    .dataframe tbody tr th:only-of-type {\n",
       "        vertical-align: middle;\n",
       "    }\n",
       "\n",
       "    .dataframe tbody tr th {\n",
       "        vertical-align: top;\n",
       "    }\n",
       "\n",
       "    .dataframe thead th {\n",
       "        text-align: right;\n",
       "    }\n",
       "</style>\n",
       "<table border=\"1\" class=\"dataframe\">\n",
       "  <thead>\n",
       "    <tr style=\"text-align: right;\">\n",
       "      <th></th>\n",
       "      <th>Merit</th>\n",
       "      <th>MHT-CET</th>\n",
       "      <th>Gender</th>\n",
       "      <th>Candidate Category</th>\n",
       "      <th>SeatType</th>\n",
       "      <th>Status</th>\n",
       "      <th>JEE(Main) Paper I Score</th>\n",
       "      <th>University name</th>\n",
       "      <th>College Code &amp; Name</th>\n",
       "      <th>Course Code</th>\n",
       "      <th>Course name</th>\n",
       "      <th>CAP</th>\n",
       "      <th>Institute Code</th>\n",
       "      <th>Institute Name</th>\n",
       "      <th>Institute Address</th>\n",
       "      <th>District</th>\n",
       "      <th>Region</th>\n",
       "      <th>Status.1</th>\n",
       "      <th>Minority Status</th>\n",
       "      <th>Choice Code</th>\n",
       "      <th>Course Name</th>\n",
       "      <th>University</th>\n",
       "      <th>Status.2</th>\n",
       "      <th>Autonomy Status</th>\n",
       "      <th>Minority Status.1</th>\n",
       "      <th>Shift</th>\n",
       "      <th>Accreditation</th>\n",
       "      <th>Gender.1</th>\n",
       "      <th>Total Intake</th>\n",
       "      <th>CAP Round</th>\n",
       "    </tr>\n",
       "  </thead>\n",
       "  <tbody>\n",
       "    <tr>\n",
       "      <th>107</th>\n",
       "      <td>9470</td>\n",
       "      <td>93.3827724</td>\n",
       "      <td>F</td>\n",
       "      <td>SC</td>\n",
       "      <td>LSCS</td>\n",
       "      <td>GovernmentAutonomous</td>\n",
       "      <td>NaN</td>\n",
       "      <td>NaN</td>\n",
       "      <td>1002   Government College of Engineering, Amra...</td>\n",
       "      <td>NaN</td>\n",
       "      <td>Computer Science and Engineering</td>\n",
       "      <td>CAP Round-I</td>\n",
       "      <td>1002</td>\n",
       "      <td>Government College of Engineering, Amravati</td>\n",
       "      <td>VMV Road, Near Kathora Naka,  Amravati</td>\n",
       "      <td>Amravati</td>\n",
       "      <td>Amravati</td>\n",
       "      <td>Government</td>\n",
       "      <td>Non-Minority</td>\n",
       "      <td>NaN</td>\n",
       "      <td>Computer Science and Engineering</td>\n",
       "      <td>Sant Gadge Baba Amravati University</td>\n",
       "      <td>Government</td>\n",
       "      <td>Autonomous</td>\n",
       "      <td>Non-Minority</td>\n",
       "      <td>General Shift</td>\n",
       "      <td>-</td>\n",
       "      <td>Co-Education</td>\n",
       "      <td>60</td>\n",
       "      <td>CAP I</td>\n",
       "    </tr>\n",
       "    <tr>\n",
       "      <th>114</th>\n",
       "      <td>12391</td>\n",
       "      <td>91.4171324</td>\n",
       "      <td>F</td>\n",
       "      <td>SC</td>\n",
       "      <td>LSCS</td>\n",
       "      <td>GovernmentAutonomous</td>\n",
       "      <td>NaN</td>\n",
       "      <td>NaN</td>\n",
       "      <td>1002   Government College of Engineering, Amra...</td>\n",
       "      <td>NaN</td>\n",
       "      <td>Computer Science and Engineering</td>\n",
       "      <td>CAP Round-I</td>\n",
       "      <td>1002</td>\n",
       "      <td>Government College of Engineering, Amravati</td>\n",
       "      <td>VMV Road, Near Kathora Naka,  Amravati</td>\n",
       "      <td>Amravati</td>\n",
       "      <td>Amravati</td>\n",
       "      <td>Government</td>\n",
       "      <td>Non-Minority</td>\n",
       "      <td>NaN</td>\n",
       "      <td>Computer Science and Engineering</td>\n",
       "      <td>Sant Gadge Baba Amravati University</td>\n",
       "      <td>Government</td>\n",
       "      <td>Autonomous</td>\n",
       "      <td>Non-Minority</td>\n",
       "      <td>General Shift</td>\n",
       "      <td>-</td>\n",
       "      <td>Co-Education</td>\n",
       "      <td>60</td>\n",
       "      <td>CAP I</td>\n",
       "    </tr>\n",
       "  </tbody>\n",
       "</table>\n",
       "</div>"
      ],
      "text/plain": [
       "     Merit    MHT-CET Gender Candidate Category SeatType  \\\n",
       "107   9470 93.3827724      F                 SC     LSCS   \n",
       "114  12391 91.4171324      F                 SC     LSCS   \n",
       "\n",
       "                   Status  JEE(Main) Paper I Score  University name  \\\n",
       "107  GovernmentAutonomous                      NaN              NaN   \n",
       "114  GovernmentAutonomous                      NaN              NaN   \n",
       "\n",
       "                                   College Code & Name Course Code  \\\n",
       "107  1002   Government College of Engineering, Amra...         NaN   \n",
       "114  1002   Government College of Engineering, Amra...         NaN   \n",
       "\n",
       "                          Course name          CAP  Institute Code  \\\n",
       "107  Computer Science and Engineering  CAP Round-I            1002   \n",
       "114  Computer Science and Engineering  CAP Round-I            1002   \n",
       "\n",
       "                                  Institute Name  \\\n",
       "107  Government College of Engineering, Amravati   \n",
       "114  Government College of Engineering, Amravati   \n",
       "\n",
       "                          Institute Address  District    Region    Status.1  \\\n",
       "107  VMV Road, Near Kathora Naka,  Amravati  Amravati  Amravati  Government   \n",
       "114  VMV Road, Near Kathora Naka,  Amravati  Amravati  Amravati  Government   \n",
       "\n",
       "    Minority Status Choice Code                       Course Name  \\\n",
       "107    Non-Minority         NaN  Computer Science and Engineering   \n",
       "114    Non-Minority         NaN  Computer Science and Engineering   \n",
       "\n",
       "                              University    Status.2 Autonomy Status  \\\n",
       "107  Sant Gadge Baba Amravati University  Government      Autonomous   \n",
       "114  Sant Gadge Baba Amravati University  Government      Autonomous   \n",
       "\n",
       "    Minority Status.1          Shift Accreditation      Gender.1  \\\n",
       "107      Non-Minority  General Shift             -  Co-Education   \n",
       "114      Non-Minority  General Shift             -  Co-Education   \n",
       "\n",
       "     Total Intake CAP Round  \n",
       "107            60     CAP I  \n",
       "114            60     CAP I  "
      ]
     },
     "execution_count": 67,
     "metadata": {},
     "output_type": "execute_result"
    }
   ],
   "source": [
    "filter = (final['CAP'] == 'CAP Round-I') & (final['Institute Code'] == 1002) & (final['Course name'] ==  'Computer Science and Engineering') & (final['Candidate Category'] ==  'SC') & (final['Gender'] ==  'F')\n",
    "final[filter]"
   ]
  },
  {
   "cell_type": "code",
   "execution_count": null,
   "id": "b9460bf5",
   "metadata": {},
   "outputs": [],
   "source": []
  },
  {
   "cell_type": "code",
   "execution_count": null,
   "id": "57b1b16d",
   "metadata": {},
   "outputs": [],
   "source": []
  },
  {
   "cell_type": "code",
   "execution_count": null,
   "id": "1c499318",
   "metadata": {},
   "outputs": [],
   "source": []
  },
  {
   "cell_type": "code",
   "execution_count": null,
   "id": "b2c0efec",
   "metadata": {},
   "outputs": [],
   "source": []
  },
  {
   "cell_type": "code",
   "execution_count": null,
   "id": "9a0bf323",
   "metadata": {},
   "outputs": [],
   "source": []
  },
  {
   "cell_type": "code",
   "execution_count": null,
   "id": "8ec89538",
   "metadata": {},
   "outputs": [],
   "source": []
  },
  {
   "cell_type": "code",
   "execution_count": null,
   "id": "ab173a90",
   "metadata": {},
   "outputs": [],
   "source": [
    "filter = (final['CAP'] == 'CAP Round-I') & (final['Institute Code'] == 1002) & (final['Course name'] ==  'Computer Science and Engineering') & (final['Candidate Category'] ==  'SC') & (final['Gender'] ==  'F')\n",
    "df[filter]"
   ]
  },
  {
   "cell_type": "code",
   "execution_count": null,
   "id": "3dfa098f",
   "metadata": {},
   "outputs": [],
   "source": []
  },
  {
   "cell_type": "code",
   "execution_count": null,
   "id": "5df68943",
   "metadata": {},
   "outputs": [],
   "source": []
  },
  {
   "cell_type": "code",
   "execution_count": null,
   "id": "ab2df251",
   "metadata": {},
   "outputs": [],
   "source": []
  },
  {
   "cell_type": "code",
   "execution_count": null,
   "id": "49ac9f24",
   "metadata": {},
   "outputs": [],
   "source": []
  },
  {
   "cell_type": "code",
   "execution_count": null,
   "id": "31211c7f",
   "metadata": {},
   "outputs": [],
   "source": []
  },
  {
   "cell_type": "code",
   "execution_count": null,
   "id": "6c792c0a",
   "metadata": {},
   "outputs": [],
   "source": []
  },
  {
   "cell_type": "code",
   "execution_count": null,
   "id": "7d454369",
   "metadata": {},
   "outputs": [],
   "source": []
  },
  {
   "cell_type": "code",
   "execution_count": null,
   "id": "1373d44b",
   "metadata": {},
   "outputs": [],
   "source": []
  },
  {
   "cell_type": "code",
   "execution_count": null,
   "id": "15865ed5",
   "metadata": {},
   "outputs": [],
   "source": []
  },
  {
   "cell_type": "code",
   "execution_count": null,
   "id": "6480ed60",
   "metadata": {},
   "outputs": [],
   "source": []
  },
  {
   "cell_type": "code",
   "execution_count": null,
   "id": "3da23947",
   "metadata": {},
   "outputs": [],
   "source": []
  },
  {
   "cell_type": "code",
   "execution_count": null,
   "id": "86eb6a61",
   "metadata": {},
   "outputs": [],
   "source": []
  },
  {
   "cell_type": "code",
   "execution_count": null,
   "id": "b1cc3dcc",
   "metadata": {},
   "outputs": [],
   "source": []
  },
  {
   "cell_type": "code",
   "execution_count": null,
   "id": "e47c6ae0",
   "metadata": {},
   "outputs": [],
   "source": []
  },
  {
   "cell_type": "code",
   "execution_count": null,
   "id": "2f66e9a9",
   "metadata": {},
   "outputs": [],
   "source": []
  },
  {
   "cell_type": "code",
   "execution_count": null,
   "id": "6a6b928b",
   "metadata": {},
   "outputs": [],
   "source": []
  },
  {
   "cell_type": "code",
   "execution_count": null,
   "id": "68cd447c",
   "metadata": {},
   "outputs": [],
   "source": []
  },
  {
   "cell_type": "code",
   "execution_count": null,
   "id": "52654fa8",
   "metadata": {},
   "outputs": [],
   "source": []
  },
  {
   "cell_type": "code",
   "execution_count": null,
   "id": "9efd2e99",
   "metadata": {},
   "outputs": [],
   "source": []
  },
  {
   "cell_type": "code",
   "execution_count": null,
   "id": "dd1777ac",
   "metadata": {},
   "outputs": [],
   "source": []
  },
  {
   "cell_type": "code",
   "execution_count": null,
   "id": "34da0391",
   "metadata": {},
   "outputs": [],
   "source": []
  },
  {
   "cell_type": "code",
   "execution_count": null,
   "id": "43699b09",
   "metadata": {},
   "outputs": [],
   "source": []
  },
  {
   "cell_type": "code",
   "execution_count": null,
   "id": "36ad39d5",
   "metadata": {},
   "outputs": [],
   "source": []
  },
  {
   "cell_type": "code",
   "execution_count": null,
   "id": "8a97e1ee",
   "metadata": {},
   "outputs": [],
   "source": []
  },
  {
   "cell_type": "code",
   "execution_count": null,
   "id": "442f8b52",
   "metadata": {},
   "outputs": [],
   "source": []
  },
  {
   "cell_type": "code",
   "execution_count": null,
   "id": "cf979811",
   "metadata": {},
   "outputs": [],
   "source": []
  },
  {
   "cell_type": "code",
   "execution_count": null,
   "id": "afc9030c",
   "metadata": {},
   "outputs": [],
   "source": []
  },
  {
   "cell_type": "code",
   "execution_count": null,
   "id": "4765b42f",
   "metadata": {},
   "outputs": [],
   "source": []
  },
  {
   "cell_type": "code",
   "execution_count": null,
   "id": "db5c2661",
   "metadata": {},
   "outputs": [],
   "source": []
  },
  {
   "cell_type": "code",
   "execution_count": null,
   "id": "5c42fc5c",
   "metadata": {},
   "outputs": [],
   "source": []
  },
  {
   "cell_type": "code",
   "execution_count": null,
   "id": "76c31e5c",
   "metadata": {},
   "outputs": [],
   "source": []
  },
  {
   "cell_type": "code",
   "execution_count": null,
   "id": "bfe8a34f",
   "metadata": {},
   "outputs": [],
   "source": []
  },
  {
   "cell_type": "code",
   "execution_count": null,
   "id": "c2437c03",
   "metadata": {},
   "outputs": [],
   "source": []
  },
  {
   "cell_type": "code",
   "execution_count": null,
   "id": "151c9dda",
   "metadata": {},
   "outputs": [],
   "source": []
  },
  {
   "cell_type": "code",
   "execution_count": null,
   "id": "a5a6b58f",
   "metadata": {},
   "outputs": [],
   "source": []
  },
  {
   "cell_type": "code",
   "execution_count": null,
   "id": "2510625e",
   "metadata": {},
   "outputs": [],
   "source": []
  },
  {
   "cell_type": "code",
   "execution_count": null,
   "id": "f4416e1f",
   "metadata": {},
   "outputs": [],
   "source": []
  }
 ],
 "metadata": {
  "kernelspec": {
   "display_name": "Python 3 (ipykernel)",
   "language": "python",
   "name": "python3"
  },
  "language_info": {
   "codemirror_mode": {
    "name": "ipython",
    "version": 3
   },
   "file_extension": ".py",
   "mimetype": "text/x-python",
   "name": "python",
   "nbconvert_exporter": "python",
   "pygments_lexer": "ipython3",
   "version": "3.7.6"
  }
 },
 "nbformat": 4,
 "nbformat_minor": 5
}
